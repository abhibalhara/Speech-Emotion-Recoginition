{
  "nbformat": 4,
  "nbformat_minor": 0,
  "metadata": {
    "colab": {
      "name": "final project.ipynb",
      "provenance": [],
      "collapsed_sections": []
    },
    "kernelspec": {
      "name": "python3",
      "display_name": "Python 3"
    }
  },
  "cells": [
    {
      "cell_type": "code",
      "metadata": {
        "id": "IpOkdGEeZTuo",
        "colab_type": "code",
        "colab": {
          "base_uri": "https://localhost:8080/",
          "height": 289
        },
        "outputId": "b55d10c3-8026-4782-d818-fe27f75c0a53"
      },
      "source": [
        "!pip install librosa soundfile numpy sklearn "
      ],
      "execution_count": null,
      "outputs": [
        {
          "output_type": "stream",
          "text": [
            "Requirement already satisfied: librosa in /usr/local/lib/python3.6/dist-packages (0.6.3)\n",
            "Requirement already satisfied: soundfile in /usr/local/lib/python3.6/dist-packages (0.10.3.post1)\n",
            "Requirement already satisfied: numpy in /usr/local/lib/python3.6/dist-packages (1.18.4)\n",
            "Requirement already satisfied: sklearn in /usr/local/lib/python3.6/dist-packages (0.0)\n",
            "Requirement already satisfied: audioread>=2.0.0 in /usr/local/lib/python3.6/dist-packages (from librosa) (2.1.8)\n",
            "Requirement already satisfied: six>=1.3 in /usr/local/lib/python3.6/dist-packages (from librosa) (1.12.0)\n",
            "Requirement already satisfied: decorator>=3.0.0 in /usr/local/lib/python3.6/dist-packages (from librosa) (4.4.2)\n",
            "Requirement already satisfied: scikit-learn!=0.19.0,>=0.14.0 in /usr/local/lib/python3.6/dist-packages (from librosa) (0.22.2.post1)\n",
            "Requirement already satisfied: resampy>=0.2.0 in /usr/local/lib/python3.6/dist-packages (from librosa) (0.2.2)\n",
            "Requirement already satisfied: scipy>=1.0.0 in /usr/local/lib/python3.6/dist-packages (from librosa) (1.4.1)\n",
            "Requirement already satisfied: joblib>=0.12 in /usr/local/lib/python3.6/dist-packages (from librosa) (0.15.1)\n",
            "Requirement already satisfied: numba>=0.38.0 in /usr/local/lib/python3.6/dist-packages (from librosa) (0.48.0)\n",
            "Requirement already satisfied: cffi>=1.0 in /usr/local/lib/python3.6/dist-packages (from soundfile) (1.14.0)\n",
            "Requirement already satisfied: llvmlite<0.32.0,>=0.31.0dev0 in /usr/local/lib/python3.6/dist-packages (from numba>=0.38.0->librosa) (0.31.0)\n",
            "Requirement already satisfied: setuptools in /usr/local/lib/python3.6/dist-packages (from numba>=0.38.0->librosa) (46.4.0)\n",
            "Requirement already satisfied: pycparser in /usr/local/lib/python3.6/dist-packages (from cffi>=1.0->soundfile) (2.20)\n"
          ],
          "name": "stdout"
        }
      ]
    },
    {
      "cell_type": "code",
      "metadata": {
        "id": "8bSOvVagZeWE",
        "colab_type": "code",
        "colab": {
          "base_uri": "https://localhost:8080/",
          "height": 170
        },
        "outputId": "20623306-2fa2-4f69-925e-eeacad168613"
      },
      "source": [
        "!apt install libasound2-dev portaudio19-dev libportaudio2 libportaudiocpp0 ffmpeg"
      ],
      "execution_count": null,
      "outputs": [
        {
          "output_type": "stream",
          "text": [
            "Reading package lists... Done\n",
            "Building dependency tree       \n",
            "Reading state information... Done\n",
            "libportaudio2 is already the newest version (19.6.0-1).\n",
            "libportaudiocpp0 is already the newest version (19.6.0-1).\n",
            "portaudio19-dev is already the newest version (19.6.0-1).\n",
            "libasound2-dev is already the newest version (1.1.3-5ubuntu0.5).\n",
            "ffmpeg is already the newest version (7:3.4.6-0ubuntu0.18.04.1).\n",
            "0 upgraded, 0 newly installed, 0 to remove and 31 not upgraded.\n"
          ],
          "name": "stdout"
        }
      ]
    },
    {
      "cell_type": "code",
      "metadata": {
        "id": "34k_vYzRZic0",
        "colab_type": "code",
        "colab": {
          "base_uri": "https://localhost:8080/",
          "height": 119
        },
        "outputId": "6592bf12-a74d-47cf-d021-c06a97210da0"
      },
      "source": [
        "!pip install sklearn pyaudio"
      ],
      "execution_count": null,
      "outputs": [
        {
          "output_type": "stream",
          "text": [
            "Requirement already satisfied: sklearn in /usr/local/lib/python3.6/dist-packages (0.0)\n",
            "Requirement already satisfied: pyaudio in /usr/local/lib/python3.6/dist-packages (0.2.11)\n",
            "Requirement already satisfied: scikit-learn in /usr/local/lib/python3.6/dist-packages (from sklearn) (0.22.2.post1)\n",
            "Requirement already satisfied: numpy>=1.11.0 in /usr/local/lib/python3.6/dist-packages (from scikit-learn->sklearn) (1.18.4)\n",
            "Requirement already satisfied: scipy>=0.17.0 in /usr/local/lib/python3.6/dist-packages (from scikit-learn->sklearn) (1.4.1)\n",
            "Requirement already satisfied: joblib>=0.11 in /usr/local/lib/python3.6/dist-packages (from scikit-learn->sklearn) (0.15.1)\n"
          ],
          "name": "stdout"
        }
      ]
    },
    {
      "cell_type": "code",
      "metadata": {
        "id": "FZuPO6_XZX7U",
        "colab_type": "code",
        "colab": {}
      },
      "source": [
        "import soundfile \n",
        "import numpy as np\n",
        "import librosa \n",
        "import glob\n",
        "import os\n",
        "import pickle \n",
        "from sklearn.model_selection import train_test_split \n",
        "from sklearn.neural_network import MLPClassifier \n",
        "from sklearn.metrics import accuracy_score \n",
        "from sklearn import model_selection"
      ],
      "execution_count": null,
      "outputs": []
    },
    {
      "cell_type": "code",
      "metadata": {
        "id": "AZpYR_XcZsP3",
        "colab_type": "code",
        "colab": {
          "base_uri": "https://localhost:8080/",
          "height": 139
        },
        "outputId": "0bd8f18a-0b88-4136-d452-c53fe591afe1"
      },
      "source": [
        "def extract_feature(file_name, **kwargs):\n",
        "    \"\"\"\n",
        "    Extract feature from audio file `file_name`\n",
        "        Features supported:\n",
        "            - MFCC (mfcc)\n",
        "            - Chroma (chroma)\n",
        "            - MEL Spectrogram Frequency (mel)\n",
        "            - Contrast (contrast)\n",
        "            - Tonnetz (tonnetz)\n",
        "        e.g:\n",
        "        `features = extract_feature(path, mel=True, mfcc=True)`\n",
        "    \"\"\"\n",
        "    mfcc = kwargs.get(\"mfcc\")\n",
        "    chroma = kwargs.get(\"chroma\")\n",
        "    mel = kwargs.get(\"mel\")\n",
        "    contrast = kwargs.get(\"contrast\")\n",
        "    tonnetz = kwargs.get(\"tonnetz\")\n",
        "    with soundfile.SoundFile(file_name) as sound_file:\n",
        "        X = sound_file.read(dtype=\"float32\")\n",
        "        \n",
        "        \n",
        "        sample_rate = sound_file.samplerate\n",
        "        if chroma or contrast:\n",
        "            stft = np.abs(librosa.stft(X))\n",
        "\n",
        "        result = np.array([])\n",
        "        if mfcc:\n",
        "            mfccs = np.mean(librosa.feature.mfcc(y=X, sr=sample_rate, n_mfcc=40).T, axis=0)\n",
        "            result = np.hstack((result, mfccs))\n",
        "        if chroma:\n",
        "            chroma = np.mean(librosa.feature.chroma_stft(S=stft, sr=sample_rate).T,axis=0)\n",
        "            result = np.hstack((result, chroma))\n",
        "        if mel:\n",
        "            mel = np.mean(librosa.feature.melspectrogram(X, sr=sample_rate).T,axis=0)\n",
        "            result = np.hstack((result, mel))\n",
        "        if contrast:\n",
        "            contrast = np.mean(librosa.feature.spectral_contrast(S=stft, sr=sample_rate).T,axis=0)\n",
        "            result = np.hstack((result, contrast))\n",
        "        if tonnetz:\n",
        "            tonnetz = np.mean(librosa.feature.tonnetz(y=librosa.effects.harmonic(X), sr=sample_rate).T,axis=0)\n",
        "            result = np.hstack((result, tonnetz))\n",
        "    return result\n",
        "\n",
        "\n",
        "int2emotion = {\n",
        "    \"01\": \"neutral\",\n",
        "    \"02\": \"calm\",\n",
        "    \"03\": \"happy\",\n",
        "    \"04\": \"sad\",\n",
        "    \"05\": \"angry\",\n",
        "    \"06\": \"fearful\",\n",
        "    \"07\": \"disgust\",\n",
        "    \"08\": \"surprised\"\n",
        "}\n",
        "\n",
        "\n",
        "AVAILABLE_EMOTIONS = {\n",
        "    \"angry\",\n",
        "    \"sad\",\n",
        "    \"neutral\",\n",
        "    \"happy\"\n",
        "}\n",
        "\n",
        "def load_data(test_size=0.2):\n",
        "    X, y = [], []\n",
        "    for file in glob.glob(\"/content/drive/My Drive/ravdess new/Actor_*/*.wav\"):\n",
        "        \n",
        "        basename = os.path.basename(file)\n",
        "        \n",
        "        emotion = int2emotion[basename.split(\"-\")[2]]\n",
        "        \n",
        "        \n",
        "        if emotion not in AVAILABLE_EMOTIONS:\n",
        "            continue\n",
        "        \n",
        "        features = extract_feature(file, mfcc=True, chroma=True, mel=True,contrast = True,tonnetz = True)\n",
        "        \n",
        "        X.append(features)\n",
        "        y.append(emotion)\n",
        "    \n",
        "    return train_test_split(np.array(X), y, test_size=test_size, random_state=7)\n",
        "\n",
        "\n",
        "X_train, X_test, y_train, y_test = load_data(test_size=0.25)\n",
        "\n",
        "print(\"Number of training samples:\", X_train.shape[0])\n",
        "print(\"Number of testing samples:\", X_test.shape[0])\n",
        "\n",
        "print(\"Number of features:\", X_train.shape[1])\n",
        "\n",
        "\n",
        "model_params = {\n",
        "    'alpha': 0.01,\n",
        "    'batch_size': 256,\n",
        "    'epsilon': 1e-08, \n",
        "    'hidden_layer_sizes': (300,), \n",
        "    'learning_rate': 'adaptive', \n",
        "    'max_iter': 500, \n",
        "}\n",
        "\n",
        "\n",
        "model=MLPClassifier(alpha=0.01, batch_size=256, epsilon=1e-08, hidden_layer_sizes=(300,), learning_rate='adaptive', max_iter=500)\n",
        "\n",
        "\n",
        "model.fit(X_train, y_train)\n",
        "\n",
        "\n",
        "y_pred = model.predict(X_test)\n",
        "\n",
        "\n",
        "accuracy = accuracy_score(y_true=y_test, y_pred=y_pred)\n",
        "\n",
        "print(\"Accuracy: {:.2f}%\".format(accuracy*100))"
      ],
      "execution_count": null,
      "outputs": [
        {
          "output_type": "stream",
          "text": [
            "Number of training samples: 504\n",
            "Number of testing samples: 168\n",
            "Number of features: 193\n",
            "Accuracy: 75.00%\n"
          ],
          "name": "stdout"
        },
        {
          "output_type": "stream",
          "text": [
            "/usr/local/lib/python3.6/dist-packages/sklearn/neural_network/_multilayer_perceptron.py:571: ConvergenceWarning: Stochastic Optimizer: Maximum iterations (500) reached and the optimization hasn't converged yet.\n",
            "  % self.max_iter, ConvergenceWarning)\n"
          ],
          "name": "stderr"
        }
      ]
    },
    {
      "cell_type": "code",
      "metadata": {
        "id": "aIgdzSzmaKQa",
        "colab_type": "code",
        "colab": {}
      },
      "source": [
        "target_names = [\"angry\", \"sad\", \"neutral\",\"happy\"]\n",
        "def heat_map(con_matrix, model, target_names=target_names):\n",
        "    fig, ax = plt.subplots()\n",
        "    tick_marks = np.arange(len(target_names))\n",
        "    plt.xticks(tick_marks, target_names)\n",
        "    plt.yticks(tick_marks, target_names)\n",
        "    sns.heatmap(pd.DataFrame(con_matrix), annot=True, cmap=\"YlGnBu\" ,fmt='g')\n",
        "    ax.xaxis.set_label_position(\"top\")\n",
        "    plt.title('Confusion matrix for '+ model)\n",
        "    plt.ylabel('Actual label')\n",
        "    plt.xlabel('Predicted label')\n",
        "    plt.style.use('ggplot')\n",
        "    plt.show()"
      ],
      "execution_count": null,
      "outputs": []
    },
    {
      "cell_type": "code",
      "metadata": {
        "id": "W2dvQc3jIKw9",
        "colab_type": "code",
        "colab": {}
      },
      "source": [
        "\n",
        "from sklearn import metrics\n",
        "import matplotlib.pyplot as plt\n",
        "import seaborn as sns\n",
        "import pandas as pd"
      ],
      "execution_count": null,
      "outputs": []
    },
    {
      "cell_type": "code",
      "metadata": {
        "id": "i_j22ijuJYk6",
        "colab_type": "code",
        "colab": {
          "base_uri": "https://localhost:8080/",
          "height": 221
        },
        "outputId": "b9fb28ae-fc04-41a1-bcd9-d47887d06dfe"
      },
      "source": [
        "con_matrix_lr = metrics.confusion_matrix(y_test, y_pred)\n",
        "report_MLP = metrics.classification_report(y_test, y_pred, target_names = target_names)\n",
        "print(\"classification report for MLP\")\n",
        "print(report_MLP)"
      ],
      "execution_count": null,
      "outputs": [
        {
          "output_type": "stream",
          "text": [
            "classification report for MLP\n",
            "              precision    recall  f1-score   support\n",
            "\n",
            "       angry       0.91      0.76      0.83        67\n",
            "         sad       0.75      0.75      0.75        40\n",
            "     neutral       0.48      0.57      0.52        21\n",
            "       happy       0.70      0.82      0.76        40\n",
            "\n",
            "    accuracy                           0.75       168\n",
            "   macro avg       0.71      0.73      0.71       168\n",
            "weighted avg       0.77      0.75      0.76       168\n",
            "\n"
          ],
          "name": "stdout"
        }
      ]
    },
    {
      "cell_type": "code",
      "metadata": {
        "id": "nAyz-C1yQpwr",
        "colab_type": "code",
        "colab": {
          "base_uri": "https://localhost:8080/",
          "height": 296
        },
        "outputId": "6b79015d-e5ae-4f83-c531-cc44fcccbe7d"
      },
      "source": [
        "heat_map(con_matrix_lr, \"MLP\")"
      ],
      "execution_count": null,
      "outputs": [
        {
          "output_type": "display_data",
          "data": {
            "image/png": "[encoded data removed]",
            "text/plain": [
              "<Figure size 432x288 with 2 Axes>"
            ]
          },
          "metadata": {
            "tags": []
          }
        }
      ]
    },
    {
      "cell_type": "code",
      "metadata": {
        "id": "c5GaZNHHYc9X",
        "colab_type": "code",
        "colab": {}
      },
      "source": [
        "from sklearn import svm\n",
        "from sklearn.metrics import accuracy_score\n",
        "clf = svm.SVC(kernel='linear', C=1)\n",
        "predicted_lr = clf.fit(X_train,y_train).predict(X_test)"
      ],
      "execution_count": null,
      "outputs": []
    },
    {
      "cell_type": "code",
      "metadata": {
        "id": "rw85yS42ZO1E",
        "colab_type": "code",
        "colab": {
          "base_uri": "https://localhost:8080/",
          "height": 500
        },
        "outputId": "effa399e-0228-4cd4-c806-3644d3564955"
      },
      "source": [
        "con_matrix_lr = metrics.confusion_matrix(y_test, predicted_lr)\n",
        "report_SVM = metrics.classification_report(y_test, predicted_lr, target_names = target_names)\n",
        "print(\"classification report for SVM\")\n",
        "print(report_SVM)\n",
        "heat_map(con_matrix_lr, \"SVM\")"
      ],
      "execution_count": null,
      "outputs": [
        {
          "output_type": "stream",
          "text": [
            "classification report for SVM\n",
            "              precision    recall  f1-score   support\n",
            "\n",
            "       angry       0.86      0.75      0.80        67\n",
            "         sad       0.51      0.53      0.52        40\n",
            "     neutral       0.42      0.38      0.40        21\n",
            "       happy       0.54      0.68      0.60        40\n",
            "\n",
            "    accuracy                           0.63       168\n",
            "   macro avg       0.58      0.58      0.58       168\n",
            "weighted avg       0.65      0.63      0.64       168\n",
            "\n"
          ],
          "name": "stdout"
        },
        {
          "output_type": "display_data",
          "data": {
            "image/png": "[encoded data removed]",
            "text/plain": [
              "<Figure size 432x288 with 2 Axes>"
            ]
          },
          "metadata": {
            "tags": []
          }
        }
      ]
    },
    {
      "cell_type": "code",
      "metadata": {
        "id": "FMBdmDrQoFrz",
        "colab_type": "code",
        "colab": {
          "base_uri": "https://localhost:8080/",
          "height": 500
        },
        "outputId": "4408234b-e611-4208-f73e-8e01081d76f7"
      },
      "source": [
        "from sklearn.naive_bayes import GaussianNB \n",
        "NB = GaussianNB() \n",
        "predicted_NB = NB.fit(X_train, y_train).predict(X_test)\n",
        "con_matrix_NB = metrics.confusion_matrix(y_test, predicted_NB)\n",
        "report_NB = metrics.classification_report(y_test, predicted_NB, target_names = target_names)\n",
        "print(\"classification report for Naive Bayes:\")\n",
        "print(report_NB)\n",
        "heat_map(con_matrix_NB, \"Naive Bayes\")"
      ],
      "execution_count": null,
      "outputs": [
        {
          "output_type": "stream",
          "text": [
            "classification report for Naive Bayes:\n",
            "              precision    recall  f1-score   support\n",
            "\n",
            "       angry       0.87      0.40      0.55        67\n",
            "         sad       0.47      0.23      0.31        40\n",
            "     neutral       0.27      0.95      0.42        21\n",
            "       happy       0.14      0.15      0.14        40\n",
            "\n",
            "    accuracy                           0.37       168\n",
            "   macro avg       0.44      0.43      0.36       168\n",
            "weighted avg       0.53      0.37      0.38       168\n",
            "\n"
          ],
          "name": "stdout"
        },
        {
          "output_type": "display_data",
          "data": {
            "image/png": "[encoded data removed]",
            "text/plain": [
              "<Figure size 432x288 with 2 Axes>"
            ]
          },
          "metadata": {
            "tags": []
          }
        }
      ]
    },
    {
      "cell_type": "code",
      "metadata": {
        "id": "iuQltVE2oNkj",
        "colab_type": "code",
        "colab": {
          "base_uri": "https://localhost:8080/",
          "height": 500
        },
        "outputId": "a70275b2-1fab-4462-a59a-0de694f99359"
      },
      "source": [
        "from sklearn.linear_model import LogisticRegression\n",
        "multireg = LogisticRegression(solver='liblinear')\n",
        "predicted_lr = multireg.fit(X_train, y_train).predict(X_test)\n",
        "con_matrix_lr = metrics.confusion_matrix(y_test, predicted_lr)\n",
        "report_lr = metrics.classification_report(y_test, predicted_lr, target_names = target_names)\n",
        "print(\"classification report for Logistic\")\n",
        "print(report_lr)\n",
        "heat_map(con_matrix_lr, \"Logistic\")"
      ],
      "execution_count": null,
      "outputs": [
        {
          "output_type": "stream",
          "text": [
            "classification report for Logistic\n",
            "              precision    recall  f1-score   support\n",
            "\n",
            "       angry       0.87      0.78      0.82        67\n",
            "         sad       0.56      0.45      0.50        40\n",
            "     neutral       0.41      0.43      0.42        21\n",
            "       happy       0.52      0.70      0.60        40\n",
            "\n",
            "    accuracy                           0.64       168\n",
            "   macro avg       0.59      0.59      0.58       168\n",
            "weighted avg       0.65      0.64      0.64       168\n",
            "\n"
          ],
          "name": "stdout"
        },
        {
          "output_type": "display_data",
          "data": {
            "image/png": "[encoded data removed]",
            "text/plain": [
              "<Figure size 432x288 with 2 Axes>"
            ]
          },
          "metadata": {
            "tags": []
          }
        }
      ]
    },
    {
      "cell_type": "code",
      "metadata": {
        "id": "3tWK7wbzZsbS",
        "colab_type": "code",
        "colab": {
          "base_uri": "https://localhost:8080/",
          "height": 823
        },
        "outputId": "507776c5-0699-41b3-f41d-d7aa8609408a"
      },
      "source": [
        "from sklearn.preprocessing import StandardScaler\n",
        "scaler = StandardScaler()\n",
        "scaler.fit(X_train)\n",
        "X_train = scaler.transform(X_train)\n",
        "X_test = scaler.transform(X_test)\n",
        "\n",
        "\n",
        "from sklearn.neighbors import KNeighborsClassifier\n",
        "classifier = KNeighborsClassifier(n_neighbors=5)\n",
        "classifier.fit(X_train, y_train)\n",
        "\n",
        "y_pred = classifier.predict(X_test)\n",
        "from sklearn.metrics import classification_report, confusion_matrix\n",
        "con_matrix_KNN = confusion_matrix(y_test, y_pred)\n",
        "print(\"classification report for KNN\")\n",
        "print(classification_report(y_test, y_pred))\n",
        "\n",
        "heat_map(con_matrix_KNN, \"KNN\")"
      ],
      "execution_count": null,
      "outputs": [
        {
          "output_type": "stream",
          "text": [
            "['sad' 'angry' 'happy' 'happy' 'angry' 'angry' 'angry' 'angry' 'sad'\n",
            " 'neutral' 'neutral' 'neutral' 'sad' 'neutral' 'happy' 'neutral' 'sad'\n",
            " 'angry' 'happy' 'happy' 'happy' 'neutral' 'neutral' 'happy' 'neutral'\n",
            " 'angry' 'sad' 'happy' 'neutral' 'angry' 'happy' 'angry' 'happy' 'angry'\n",
            " 'sad' 'sad' 'angry' 'angry' 'angry' 'sad' 'happy' 'happy' 'angry' 'sad'\n",
            " 'angry' 'neutral' 'sad' 'neutral' 'neutral' 'sad' 'neutral' 'happy'\n",
            " 'happy' 'angry' 'sad' 'angry' 'angry' 'happy' 'happy' 'angry' 'sad'\n",
            " 'happy' 'neutral' 'sad' 'sad' 'neutral' 'sad' 'angry' 'sad' 'angry'\n",
            " 'happy' 'happy' 'happy' 'angry' 'angry' 'neutral' 'angry' 'happy' 'happy'\n",
            " 'angry' 'happy' 'neutral' 'sad' 'angry' 'neutral' 'happy' 'neutral'\n",
            " 'angry' 'sad' 'happy' 'sad' 'neutral' 'angry' 'angry' 'neutral' 'angry'\n",
            " 'angry' 'sad' 'sad' 'sad' 'neutral' 'sad' 'angry' 'happy' 'sad' 'angry'\n",
            " 'angry' 'angry' 'happy' 'sad' 'happy' 'happy' 'happy' 'happy' 'happy'\n",
            " 'neutral' 'angry' 'angry' 'sad' 'sad' 'happy' 'sad' 'angry' 'sad' 'angry'\n",
            " 'neutral' 'happy' 'sad' 'happy' 'happy' 'angry' 'angry' 'happy' 'angry'\n",
            " 'neutral' 'happy' 'angry' 'angry' 'sad' 'angry' 'happy' 'angry' 'sad'\n",
            " 'happy' 'happy' 'happy' 'angry' 'happy' 'angry' 'happy' 'angry' 'sad'\n",
            " 'angry' 'sad' 'angry' 'happy' 'angry' 'angry' 'neutral' 'angry' 'happy'\n",
            " 'sad' 'happy' 'sad' 'happy' 'angry' 'angry' 'happy']\n",
            "classification report for KNN\n",
            "              precision    recall  f1-score   support\n",
            "\n",
            "       angry       0.79      0.66      0.72        67\n",
            "       happy       0.51      0.62      0.56        40\n",
            "     neutral       0.46      0.57      0.51        21\n",
            "         sad       0.54      0.50      0.52        40\n",
            "\n",
            "    accuracy                           0.60       168\n",
            "   macro avg       0.57      0.59      0.58       168\n",
            "weighted avg       0.62      0.60      0.61       168\n",
            "\n"
          ],
          "name": "stdout"
        },
        {
          "output_type": "display_data",
          "data": {
            "image/png": "[encoded data removed]",
            "text/plain": [
              "<Figure size 432x288 with 2 Axes>"
            ]
          },
          "metadata": {
            "tags": []
          }
        }
      ]
    },
    {
      "cell_type": "code",
      "metadata": {
        "id": "DpH--Zk_jUY4",
        "colab_type": "code",
        "colab": {}
      },
      "source": [
        ""
      ],
      "execution_count": null,
      "outputs": []
    },
    {
      "cell_type": "code",
      "metadata": {
        "id": "-fUqbn2Zkpn3",
        "colab_type": "code",
        "colab": {
          "base_uri": "https://localhost:8080/",
          "height": 54
        },
        "outputId": "b30177d8-bb8e-46f4-afb2-c7eeb2551ff7"
      },
      "source": [
        "from sklearn import mixture\n",
        "model1 = mixture.GaussianMixture(n_components=4, covariance_type='full')\n",
        "gmm = model1.fit(X_train,y_train)\n",
        "y_pred = gmm.predict(X_test)\n",
        "print(y_test)\n",
        "# con_matrix_GMM = confusion_matrix(y_test, y_pred)\n",
        "# report_GMM = classification_report(Y, labels, target_names = target_names)\n",
        "# print(\"classification report for GMM\")\n",
        "# print(report_GMM)\n",
        "# heat_map(con_matrix_lr, \"GMM\")"
      ],
      "execution_count": null,
      "outputs": [
        {
          "output_type": "stream",
          "text": [
            "['sad', 'angry', 'happy', 'happy', 'angry', 'angry', 'happy', 'angry', 'angry', 'sad', 'sad', 'neutral', 'neutral', 'neutral', 'happy', 'neutral', 'happy', 'angry', 'sad', 'happy', 'happy', 'angry', 'neutral', 'happy', 'neutral', 'sad', 'angry', 'angry', 'neutral', 'angry', 'sad', 'happy', 'happy', 'angry', 'neutral', 'angry', 'happy', 'angry', 'angry', 'sad', 'sad', 'angry', 'angry', 'sad', 'neutral', 'sad', 'sad', 'neutral', 'neutral', 'sad', 'sad', 'sad', 'happy', 'happy', 'angry', 'angry', 'angry', 'happy', 'happy', 'angry', 'neutral', 'happy', 'happy', 'sad', 'angry', 'neutral', 'neutral', 'angry', 'sad', 'angry', 'sad', 'happy', 'sad', 'angry', 'angry', 'angry', 'angry', 'happy', 'happy', 'angry', 'sad', 'sad', 'sad', 'angry', 'sad', 'happy', 'sad', 'happy', 'sad', 'angry', 'sad', 'sad', 'angry', 'angry', 'happy', 'angry', 'angry', 'sad', 'sad', 'happy', 'neutral', 'sad', 'angry', 'happy', 'sad', 'angry', 'angry', 'angry', 'angry', 'sad', 'angry', 'angry', 'angry', 'happy', 'angry', 'sad', 'angry', 'angry', 'happy', 'sad', 'happy', 'sad', 'happy', 'angry', 'neutral', 'neutral', 'angry', 'sad', 'angry', 'angry', 'angry', 'angry', 'sad', 'angry', 'happy', 'angry', 'angry', 'angry', 'angry', 'angry', 'neutral', 'angry', 'sad', 'happy', 'happy', 'happy', 'angry', 'sad', 'angry', 'happy', 'angry', 'sad', 'angry', 'happy', 'angry', 'neutral', 'happy', 'happy', 'neutral', 'angry', 'happy', 'neutral', 'happy', 'angry', 'happy', 'angry', 'sad', 'angry']\n"
          ],
          "name": "stdout"
        }
      ]
    }
  ]
}